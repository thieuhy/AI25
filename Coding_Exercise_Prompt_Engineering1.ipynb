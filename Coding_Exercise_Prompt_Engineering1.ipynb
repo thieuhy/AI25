{
  "nbformat": 4,
  "nbformat_minor": 0,
  "metadata": {
    "colab": {
      "provenance": [],
      "authorship_tag": "ABX9TyPNJ46P845ZRLyXUPVrJJun",
      "include_colab_link": true
    },
    "kernelspec": {
      "name": "python3",
      "display_name": "Python 3"
    },
    "language_info": {
      "name": "python"
    }
  },
  "cells": [
    {
      "cell_type": "markdown",
      "metadata": {
        "id": "view-in-github",
        "colab_type": "text"
      },
      "source": [
        "<a href=\"https://colab.research.google.com/github/thieuhy/AI25/blob/Prompt-Engineering/Coding_Exercise_Prompt_Engineering1.ipynb\" target=\"_parent\"><img src=\"https://colab.research.google.com/assets/colab-badge.svg\" alt=\"Open In Colab\"/></a>"
      ]
    },
    {
      "cell_type": "code",
      "execution_count": 4,
      "metadata": {
        "colab": {
          "base_uri": "https://localhost:8080/"
        },
        "id": "oNTcV-qMYbE-",
        "outputId": "5d002d9d-19ee-4afd-e685-b54baea6bd2a"
      },
      "outputs": [
        {
          "output_type": "stream",
          "name": "stdout",
          "text": [
            "AI: Hello! Welcome to Acme Customer Support. How can I assist you today?\n",
            "You: The product I ordered is not working\n",
            "AI: Thanks for reaching out about: 'The product I ordered is not working'. Could you please provide more details about your issue?\n",
            "You: It turns on but doesn't connect to WiFi\n",
            "AI: Thank you for explaining your issue. Could you please provide more details or specify which product or service you're having trouble with? I'm here to help troubleshoot or guide you. If you'd like, I can also connect you to a human support agent.\n",
            "AI: Was I able to resolve your issue today? (yes/no)\n",
            "You: It can't find any networks.\n",
            "AI: Please answer with 'yes' or 'no'.\n",
            "AI: Was I able to resolve your issue today? (yes/no)\n",
            "You: no\n",
            "AI: I'm sorry I couldn't fully resolve your issue. I'll escalate this to a human agent right away, and they'll get back to you soon. Thank you for contacting Acme Support.\n"
          ]
        }
      ],
      "source": [
        "# --- Function Definitions ---\n",
        "\n",
        "def greet_customer():\n",
        "    \"\"\"\n",
        "    Starts the conversation by printing a welcome message and asking for the user's initial problem.\n",
        "    It then captures and returns the user's typed response.\n",
        "    \"\"\"\n",
        "    print(\"AI: Hello! Welcome to Acme Customer Support. How can I assist you today?\")\n",
        "    return input(\"You: \")\n",
        "\n",
        "def ask_issue_details(initial_issue):\n",
        "    \"\"\"\n",
        "    Takes the user's initial issue as an argument and asks for more specific details.\n",
        "    This helps the AI get more context to provide a better solution.\n",
        "    It returns the user's detailed explanation.\n",
        "    \"\"\"\n",
        "    print(f\"AI: Thanks for reaching out about: '{initial_issue}'. Could you please provide more details about your issue?\")\n",
        "    return input(\"You: \")\n",
        "\n",
        "def suggest_solution(issue_details):\n",
        "    \"\"\"\n",
        "    Provides a response based on keywords found in the user's detailed issue description.\n",
        "    This function contains the core logic for routing the user's problem.\n",
        "    \"\"\"\n",
        "    issue_lower = issue_details.lower()\n",
        "\n",
        "    # Extensible mapping of keywords to responses\n",
        "    keyword_responses = {\n",
        "        \"refund\": \"AI: I understand you'd like a refund. To process this, may I have your order number?\",\n",
        "        \"not working\": \"AI: Sorry to hear you're experiencing problems. Could you specify what exactly isn't working or what difficulties you're facing?\",\n",
        "        \"broken\": \"AI: Sorry to hear a product is broken. Can you describe what happened and which product it is?\",\n",
        "        \"exchange\": \"AI: You'd like to exchange a product. Please provide your order number and the reason for the exchange.\",\n",
        "        \"warranty\": \"AI: I see you have a warranty question. Can you provide your product serial number so I can check the warranty coverage?\"\n",
        "    }\n",
        "\n",
        "    # Check for any keyword matches\n",
        "    for keyword, response in keyword_responses.items():\n",
        "        if keyword in issue_lower:\n",
        "            print(response)\n",
        "            return\n",
        "\n",
        "    # Default active, product-focused response\n",
        "    print(\n",
        "        \"AI: Thank you for explaining your issue. \"\n",
        "        \"Could you please provide more details or specify which product or service you're having trouble with? \"\n",
        "        \"I'm here to help troubleshoot or guide you. \"\n",
        "        \"If you'd like, I can also connect you to a human support agent.\"\n",
        "    )\n",
        "\n",
        "def confirm_resolution():\n",
        "    \"\"\"\n",
        "    Asks the user if the provided support solved their problem.\n",
        "    This step is crucial for gathering feedback and determining the next action (e.g., closing or escalating).\n",
        "    Returns the user's 'yes' or 'no' response. If invalid, prompts again.\n",
        "    \"\"\"\n",
        "    while True:\n",
        "        print(\"AI: Was I able to resolve your issue today? (yes/no)\")\n",
        "        user_input = input(\"You: \").strip().lower()\n",
        "        if user_input.startswith(\"y\") or user_input.startswith(\"n\"):\n",
        "            return user_input\n",
        "        print(\"AI: Please answer with 'yes' or 'no'.\")\n",
        "\n",
        "def closing_message(resolution):\n",
        "    \"\"\"\n",
        "    Prints a final message that changes based on whether the issue was resolved.\n",
        "    If resolved, it gives a friendly closing. If not, it informs the user about escalation.\n",
        "    \"\"\"\n",
        "    if resolution.startswith(\"y\"):\n",
        "        print(\"AI: I'm glad I could help! If you have any more questions, feel free to ask. Have a wonderful day!\")\n",
        "    else:\n",
        "        print(\"AI: I'm sorry I couldn't fully resolve your issue. I'll escalate this to a human agent right away, and they'll get back to you soon. Thank you for contacting Acme Support.\")\n",
        "\n",
        "def customer_support_prompt_chain():\n",
        "    \"\"\"\n",
        "    Main function that orchestrates the entire conversation flow.\n",
        "    It calls the other functions in a specific sequence to simulate a logical support interaction.\n",
        "    \"\"\"\n",
        "    conversation_log = []  # Store conversation history\n",
        "\n",
        "    # Step 1: Greet the customer and get their initial issue.\n",
        "    issue = greet_customer()\n",
        "    conversation_log.append((\"user\", issue))\n",
        "    # Step 2: Ask for more details about that issue.\n",
        "    details = ask_issue_details(issue)\n",
        "    conversation_log.append((\"user\", details))\n",
        "    # Step 3: Suggest a solution based on the details.\n",
        "    suggest_solution(details)\n",
        "    # Step 4: Confirm if the solution was helpful.\n",
        "    resolution = confirm_resolution()\n",
        "    conversation_log.append((\"user\", resolution))\n",
        "    # Step 5: Provide a final closing message based on the resolution.\n",
        "    closing_message(resolution)\n",
        "\n",
        "    # Optional: print conversation log (for analytics or debugging)\n",
        "    # print(\"Conversation log:\", conversation_log)\n",
        "\n",
        "# --- Main Execution Block ---\n",
        "if __name__ == \"__main__\":\n",
        "    customer_support_prompt_chain()"
      ]
    }
  ]
}