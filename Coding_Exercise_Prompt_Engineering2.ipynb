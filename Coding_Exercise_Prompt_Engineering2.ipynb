{
  "nbformat": 4,
  "nbformat_minor": 0,
  "metadata": {
    "colab": {
      "provenance": [],
      "authorship_tag": "ABX9TyNphy5tRsdSj0b02+Vb2/Bt",
      "include_colab_link": true
    },
    "kernelspec": {
      "name": "python3",
      "display_name": "Python 3"
    },
    "language_info": {
      "name": "python"
    }
  },
  "cells": [
    {
      "cell_type": "markdown",
      "metadata": {
        "id": "view-in-github",
        "colab_type": "text"
      },
      "source": [
        "<a href=\"https://colab.research.google.com/github/thieuhy/AI25/blob/Prompt-Engineering/Coding_Exercise_Prompt_Engineering2.ipynb\" target=\"_parent\"><img src=\"https://colab.research.google.com/assets/colab-badge.svg\" alt=\"Open In Colab\"/></a>"
      ]
    },
    {
      "cell_type": "code",
      "execution_count": 1,
      "metadata": {
        "colab": {
          "base_uri": "https://localhost:8080/"
        },
        "id": "lnBr5scBl2s1",
        "outputId": "46668579-4585-4b8d-d1c6-f8bb6dbc525a"
      },
      "outputs": [
        {
          "output_type": "stream",
          "name": "stdout",
          "text": [
            "Question: What is the sum of the numbers 10, 20, and 30?\n",
            "\n",
            "[Reasoning] Let's identify what the question is asking.\n",
            "[Reasoning] The question is probably asking for the sum of a list of numbers.\n",
            "[Reasoning] Extracted numbers: []\n",
            "\n",
            "[Action] Calculating the sum of the extracted numbers...\n",
            "[Action] The result is: 0\n",
            "\n",
            "[Observation] The answer to the question is: 0\n"
          ]
        }
      ],
      "source": [
        "import ast\n",
        "\n",
        "def react_reasoning(question):\n",
        "    \"\"\"\n",
        "    Demonstrates a simple ReAct loop for answering a math problem:\n",
        "    1. Think: Parse the question and devise a plan.\n",
        "    2. Act: Execute the plan in code.\n",
        "    3. Observe: See the result and decide if more action is needed.\n",
        "    \"\"\"\n",
        "\n",
        "    print(\"Question:\", question)\n",
        "\n",
        "    # Step 1: Think (Reason)\n",
        "    print(\"\\n[Reasoning] Let's identify what the question is asking.\")\n",
        "    if \"sum\" in question and \"numbers\" in question:\n",
        "        print(\"[Reasoning] The question is probably asking for the sum of a list of numbers.\")\n",
        "        # Extract numbers from the question (naive approach)\n",
        "        numbers = [int(num) for num in question.split() if num.isdigit()]\n",
        "        print(f\"[Reasoning] Extracted numbers: {numbers}\")\n",
        "    else:\n",
        "        print(\"[Reasoning] I don't understand the question.\")\n",
        "        return\n",
        "\n",
        "    # Step 2: Act (Execution)\n",
        "    print(\"\\n[Action] Calculating the sum of the extracted numbers...\")\n",
        "    result = sum(numbers)\n",
        "    print(f\"[Action] The result is: {result}\")\n",
        "\n",
        "    # Step 3: Observe\n",
        "    print(\"\\n[Observation] The answer to the question is:\", result)\n",
        "\n",
        "if __name__ == '__main__':\n",
        "    # Example input\n",
        "    react_reasoning(\"What is the sum of the numbers 10, 20, and 30?\")"
      ]
    }
  ]
}