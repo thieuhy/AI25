{
  "cells": [
    {
      "cell_type": "markdown",
      "metadata": {
        "id": "view-in-github",
        "colab_type": "text"
      },
      "source": [
        "<a href=\"https://colab.research.google.com/github/thieuhy/AgenticAI_Business_SJSU/blob/Agentic-AI-in-Customer-Service-and-Sales/Group_8_Agentic_AI_in_Customer_Service_and_Sales.ipynb\" target=\"_parent\"><img src=\"https://colab.research.google.com/assets/colab-badge.svg\" alt=\"Open In Colab\"/></a>"
      ]
    },
    {
      "cell_type": "markdown",
      "metadata": {
        "id": "_W998UG1iM4B"
      },
      "source": [
        "# Product QnA Agent Chatbot\n"
      ]
    },
    {
      "cell_type": "code",
      "execution_count": null,
      "metadata": {
        "colab": {
          "background_save": true
        },
        "id": "aH4nEjS2PzC2",
        "outputId": "8bb77c6f-a1d8-42fb-ad28-c523dc5c3d8d"
      },
      "outputs": [
        {
          "name": "stdout",
          "output_type": "stream",
          "text": [
            "✅ LangChain + OpenAI setup complete.\n"
          ]
        }
      ],
      "source": [
        "# --- install dependencies (run once per session)\n",
        "!pip -q install langchain langchain_openai openai\n",
        "\n",
        "# --- imports\n",
        "from langchain_openai import ChatOpenAI, OpenAIEmbeddings\n",
        "import os\n",
        "from getpass import getpass\n",
        "\n",
        "# --- ask each user to enter their own key securely\n",
        "if not os.getenv(\"OPENAI_API_KEY\"):\n",
        "    os.environ[\"OPENAI_API_KEY\"] = getpass(\"Enter your OpenAI API key: \")\n",
        "\n",
        "# --- setup the model + embeddings\n",
        "model = ChatOpenAI(model=\"gpt-4o-mini\", temperature=0.3)\n",
        "embeddings = OpenAIEmbeddings(model=\"text-embedding-3-small\")\n",
        "\n",
        "print(\"✅ LangChain + OpenAI setup complete.\")"
      ]
    },
    {
      "cell_type": "code",
      "execution_count": null,
      "metadata": {
        "colab": {
          "background_save": true
        },
        "id": "-2-OX0QYi14Y",
        "outputId": "cd4311f2-dd06-41b9-9d85-4a331285aa41"
      },
      "outputs": [
        {
          "name": "stdout",
          "output_type": "stream",
          "text": [
            "                      Name  Price  Shipping Size\n",
            "0          Sony WH-1000XM5    399              2\n",
            "1  Bose QuietComfort Ultra    429              7\n",
            "2        Apple AirPods Max    549              7\n",
            "3    Sennheiser Momentum 4    379             14\n",
            "4          JBL Tour One M2    279              2\n"
          ]
        }
      ],
      "source": [
        "import pandas as pd\n",
        "from langchain_core.tools import tool\n",
        "\n",
        "#Load the headphone product pricing CSV into a Pandas dataframe.\n",
        "product_pricing_df = pd.read_csv(\"/content/Headphone Pricing - Sheet1.csv\")\n",
        "# Clean up column names by stripping whitespace\n",
        "product_pricing_df.columns = product_pricing_df.columns.str.strip()\n",
        "print(product_pricing_df)\n",
        "\n",
        "@tool\n",
        "def get_headphone_price(headphone_name:str) -> int :\n",
        "    \"\"\"\n",
        "    This function returns the price of a headphone, given its name as input.\n",
        "    It performs a substring match between the input name and the headphone name.\n",
        "    If a match is found, it returns the pricxe of the headphone.\n",
        "    If there is NO match found, it returns -1\n",
        "    \"\"\"\n",
        "\n",
        "    #Filter Dataframe for matching names\n",
        "    match_records_df = product_pricing_df[\n",
        "                        product_pricing_df[\"Name\"].str.contains(\n",
        "                                                \"^\" + headphone_name, case=False)\n",
        "                        ]\n",
        "    #Check if a record was found, if not return -1\n",
        "    if len(match_records_df) == 0 :\n",
        "        return -1\n",
        "    else:\n",
        "        return match_records_df[\"Price\"].iloc[0]\n",
        "\n",
        "#Test the tool. Before running the test, comment the @tool annotation\n",
        "#print(get_headphone_price(\"Sony WH-1000XM5\"))\n",
        "#print(get_headphone_price(\"Bose QuietComfort\"))\n",
        "#print(get_headphone_price(\"random test\"))  # should return -1"
      ]
    },
    {
      "cell_type": "code",
      "execution_count": null,
      "metadata": {
        "colab": {
          "background_save": true
        },
        "id": "qcVRp10ufTvU"
      },
      "outputs": [],
      "source": [
        "# --- Install (only once per runtime) ---\n",
        "!pip install -q langchain langchain-openai langchain-chroma langchain-community langchain-text-splitters pypdf langgraph\n",
        "\n",
        "# --- Imports ---\n",
        "from langchain_openai import OpenAIEmbeddings\n",
        "from langchain_chroma import Chroma\n",
        "from langchain_community.document_loaders import PyPDFLoader\n",
        "from langchain_text_splitters import RecursiveCharacterTextSplitter\n",
        "from langchain_core.tools import Tool\n",
        "\n",
        "# === 1. Load, chunk, and index the contents of your headphone PDF ===\n",
        "# Replace with your actual headphone feature document\n",
        "loader = PyPDFLoader(\"/content/Product Description.pdf\")\n",
        "docs = loader.load()\n",
        "\n",
        "text_splitter = RecursiveCharacterTextSplitter(chunk_size=1024, chunk_overlap=256)\n",
        "splits = text_splitter.split_documents(docs)\n",
        "\n",
        "# === 2. Create vector store with Chroma ===\n",
        "embeddings = OpenAIEmbeddings(model=\"text-embedding-3-small\")\n",
        "\n",
        "prod_feature_store = Chroma.from_documents(\n",
        "    documents=splits,\n",
        "    embedding=embeddings        # (use embedding_function=embeddings if you import from langchain_community.vectorstores)\n",
        ")\n",
        "\n",
        "retriever = prod_feature_store.as_retriever(search_kwargs={\"k\": 1})\n",
        "\n",
        "# === 3. Create a retriever Tool (no version conflict) ===\n",
        "def _search_headphone_features(query: str) -> str:\n",
        "    \"\"\"Search the indexed headphone features PDF.\"\"\"\n",
        "    docs = retriever.invoke(query)\n",
        "    if not docs:\n",
        "        return \"No matching headphone information found.\"\n",
        "    return docs[0].page_content\n",
        "\n",
        "get_product_features = Tool(\n",
        "    name=\"Get_Product_Features\",\n",
        "    description=(\n",
        "        \"This store contains details about headphones. \"\n",
        "        \"It lists available models and their features including \"\n",
        "        \"wireless connectivity, noise cancellation, battery life, design, and advantages.\"\n",
        "    ),\n",
        "    func=_search_headphone_features,\n",
        ")\n",
        "\n",
        "# === 4. Test the tool ===\n",
        "# Uncomment to test\n",
        "# print(get_product_features.run(\"Tell me about the Sony WH-1000XM5\"))"
      ]
    },
    {
      "cell_type": "code",
      "execution_count": null,
      "metadata": {
        "colab": {
          "background_save": true
        },
        "id": "vnqje_bIm_zp",
        "outputId": "250809ff-45dc-4fc5-cff3-ac0fba11a4f9"
      },
      "outputs": [
        {
          "name": "stderr",
          "output_type": "stream",
          "text": [
            "/tmp/ipython-input-2726189538.py:20: LangGraphDeprecatedSinceV10: create_react_agent has been moved to `langchain.agents`. Please update your import to `from langchain.agents import create_agent`. Deprecated in LangGraph V1.0 to be removed in V2.0.\n",
            "  product_QnA_agent=create_react_agent(\n"
          ]
        }
      ],
      "source": [
        "from langgraph.prebuilt import create_react_agent\n",
        "from langgraph.checkpoint.memory import MemorySaver\n",
        "from langchain_core.messages import AIMessage,HumanMessage,SystemMessage\n",
        "\n",
        "#Create a System prompt to provide a persona to the chatbot\n",
        "system_prompt = SystemMessage(\"\"\"\n",
        "    You are professional chatbot that answers questions about headphone sold by your company.\n",
        "    To answer questions about headphone, you will ONLY use the available tools and NOT your own memory.\n",
        "    You will handle small talk and greetings by producing professional responses.\n",
        "    \"\"\"\n",
        ")\n",
        "\n",
        "#Create a list of tools available\n",
        "tools = [get_headphone_price, get_product_features]\n",
        "\n",
        "#Create memory across questions in a conversation (conversation memory)\n",
        "checkpointer=MemorySaver()\n",
        "\n",
        "#Create a Product QnA Agent. This is actual a graph in langGraph\n",
        "product_QnA_agent=create_react_agent(\n",
        "                                model=model, #LLM to use\n",
        "                                tools=tools, #List of tools to use\n",
        "                                # The system prompt might be handled differently and not as a direct argument here\n",
        "                                debug=False, #Debugging turned on if needed\n",
        "                                checkpointer=checkpointer #For conversation memory\n",
        ")"
      ]
    },
    {
      "cell_type": "code",
      "execution_count": null,
      "metadata": {
        "colab": {
          "background_save": true
        },
        "id": "DhpbQHhWKTzM",
        "outputId": "da7cdd75-3d1a-484b-c28c-b5eb179f277e"
      },
      "outputs": [
        {
          "name": "stderr",
          "output_type": "stream",
          "text": [
            "/tmp/ipython-input-4050622806.py:21: LangGraphDeprecatedSinceV10: create_react_agent has been moved to `langchain.agents`. Please update your import to `from langchain.agents import create_agent`. Deprecated in LangGraph V1.0 to be removed in V2.0.\n",
            "  product_QnA_agent=create_react_agent(\n"
          ]
        },
        {
          "name": "stdout",
          "output_type": "stream",
          "text": [
            "================================\u001b[1m Human Message \u001b[0m=================================\n",
            "\n",
            "What are the features and pricing for Sony WH-1000XM5?\n",
            "==================================\u001b[1m Ai Message \u001b[0m==================================\n",
            "Tool Calls:\n",
            "  Get_Product_Features (call_bUPeKCoTRXudK2iMO2UNRzYP)\n",
            " Call ID: call_bUPeKCoTRXudK2iMO2UNRzYP\n",
            "  Args:\n",
            "    __arg1: Sony WH-1000XM5\n",
            "  get_headphone_price (call_I9vcyHSIQWJJgSwTtBQmsKkz)\n",
            " Call ID: call_I9vcyHSIQWJJgSwTtBQmsKkz\n",
            "  Args:\n",
            "    headphone_name: Sony WH-1000XM5\n",
            "=================================\u001b[1m Tool Message \u001b[0m=================================\n",
            "Name: get_headphone_price\n",
            "\n",
            "399\n",
            "==================================\u001b[1m Ai Message \u001b[0m==================================\n",
            "\n",
            "### Features of Sony WH-1000XM5:\n",
            "- **Noise Cancellation**: Industry-leading noise cancellation with dual processors and advanced microphones.\n",
            "- **Design**: Lightweight design with plush earcups, making it comfortable for long listening sessions.\n",
            "- **Battery Life**: Offers a 30-hour battery life with fast charging capabilities, ideal for travelers and audiophiles.\n",
            "\n",
            "### Pricing:\n",
            "- The price of the Sony WH-1000XM5 is **$399**.\n"
          ]
        }
      ],
      "source": [
        "from langgraph.prebuilt import create_react_agent\n",
        "from langgraph.checkpoint.memory import MemorySaver\n",
        "from langchain_core.messages import AIMessage,HumanMessage,SystemMessage\n",
        "import uuid # import uuid here\n",
        "\n",
        "#Create a System prompt to provide a persona to the chatbot\n",
        "system_prompt = SystemMessage(\"\"\"\n",
        "    You are professional chatbot that answers questions about headphone sold by your company.\n",
        "    To answer questions about headphone, you will ONLY use the available tools and NOT your own memory.\n",
        "    You will handle small talk and greetings by producing professional responses.\n",
        "    \"\"\"\n",
        ")\n",
        "\n",
        "#Create a list of tools available\n",
        "tools = [get_headphone_price, get_product_features]\n",
        "\n",
        "#Create memory across questions in a conversation (conversation memory)\n",
        "checkpointer=MemorySaver()\n",
        "\n",
        "#Create a Product QnA Agent. This is actual a graph in langGraph\n",
        "product_QnA_agent=create_react_agent(\n",
        "                                model=model, #LLM to use\n",
        "                                tools=tools, #List of tools to use\n",
        "                                # The system prompt might be handled differently and not as a direct argument here\n",
        "                                debug=False, #Debugging turned on if needed\n",
        "                                checkpointer=checkpointer #For conversation memory\n",
        ")\n",
        "\n",
        "#Setup chatbot\n",
        "#To maintain memory, each request should be in the context of a thread.\n",
        "#Each user conversation will use a separate thread ID\n",
        "config = {\"configurable\": {\"thread_id\": uuid.uuid4()}}\n",
        "\n",
        "#Test the agent with an input\n",
        "inputs = {\"messages\":[\n",
        "                HumanMessage(\"What are the features and pricing for Sony WH-1000XM5?\")\n",
        "            ]}\n",
        "\n",
        "#Use streaming to print responses as the agent  does the work.\n",
        "#This is an alternate way to stream agent responses without waiting for the agent to finish\n",
        "for stream in product_QnA_agent.stream(inputs, config, stream_mode=\"values\"):\n",
        "    message=stream[\"messages\"][-1]\n",
        "    if isinstance(message, tuple):\n",
        "        print(message)\n",
        "    else:\n",
        "        message.pretty_print()"
      ]
    },
    {
      "cell_type": "code",
      "execution_count": null,
      "metadata": {
        "colab": {
          "background_save": true
        },
        "id": "Pj0guY9_KXe_",
        "outputId": "bdbbabfd-d322-4dcd-ed74-202a34cb2ffa"
      },
      "outputs": [
        {
          "name": "stdout",
          "output_type": "stream",
          "text": [
            "----------------------------------------\n",
            "USER : Hello\n",
            "AGENT : Hello! How can I assist you today?\n",
            "----------------------------------------\n",
            "USER : I am looking to buy a headphone\n",
            "AGENT : Great! What specific features or requirements are you looking for in a headphone? For example, do you prefer wireless or wired, noise cancellation, battery life, or any particular brand?\n",
            "----------------------------------------\n",
            "USER : Give me a list of available headphone names\n",
            "AGENT : I currently don't have direct access to a list of available headphone names. However, I can help you find specific models or features if you have something in mind. Alternatively, I can provide information on popular headphone brands and models. Would you like me to do that?\n",
            "----------------------------------------\n",
            "USER : Tell me about the features of Sony WH-1000XM5\n",
            "AGENT : The Sony WH-1000XM5 headphones offer the following features:\n",
            "\n",
            "- **Industry-Leading Noise Cancellation**: Equipped with dual processors and advanced microphones for superior noise cancellation.\n",
            "- **Lightweight Design**: Designed for comfort, making them suitable for long listening sessions.\n",
            "- **Plush Earcups**: Ensures a comfortable fit for extended use.\n",
            "- **30-Hour Battery Life**: Provides long-lasting playback time.\n",
            "- **Fast Charging**: Convenient for travelers and audiophiles, allowing for quick recharging.\n",
            "\n",
            "If you need more information or have any other specific questions, feel free to ask!\n",
            "----------------------------------------\n",
            "USER : How much does it cost?\n",
            "AGENT : The Sony WH-1000XM5 headphones are priced at $399. If you have any more questions or need assistance with anything else, let me know!\n",
            "----------------------------------------\n",
            "USER : Give me similar information about Bose QuietComfort Ultra\n",
            "AGENT : The Bose QuietComfort Ultra headphones offer the following features:\n",
            "\n",
            "- **Exceptional Comfort**: Designed for long listening sessions with a focus on comfort.\n",
            "- **High-Fidelity Sound**: Delivers clear and immersive audio quality.\n",
            "- **Immersive Spatial Audio Technology**: Provides an enhanced listening experience.\n",
            "- **Adaptive Noise Cancellation**: Automatically adjusts to your surroundings for optimal sound quality.\n",
            "- **Ideal for Professionals and Music Lovers**: Perfect for those seeking clarity and comfort in their audio experience.\n",
            "\n",
            "The price of the Bose QuietComfort Ultra headphones is $429. If you have any more questions or need further assistance, feel free to ask!\n",
            "----------------------------------------\n",
            "USER : What info do you have on Apple AirPods Max?\n",
            "AGENT : The Apple AirPods Max headphones feature the following:\n",
            "\n",
            "- **High-Fidelity Audio**: Combines premium sound quality with advanced computational sound processing.\n",
            "- **Luxury Comfort**: Made with aluminum earcups, a knit mesh canopy, and memory foam cushions for a comfortable fit.\n",
            "- **Spatial Audio**: Offers an immersive listening experience with seamless integration with Apple devices.\n",
            "- **Ideal for Apple Ecosystem Users**: Perfect for those who use multiple Apple products.\n",
            "\n",
            "The price of the Apple AirPods Max headphones is $549. If you have any more questions or need further assistance, feel free to ask!\n",
            "----------------------------------------\n",
            "USER : Thanks for the help\n",
            "AGENT : You're welcome! If you have any more questions in the future or need assistance, feel free to reach out. Have a great day!\n"
          ]
        }
      ],
      "source": [
        "import uuid\n",
        "from langchain_core.messages import HumanMessage # Import HumanMessage here\n",
        "\n",
        "#Send a sequence of messages to chatbot and get its response\n",
        "#This simulates the conversation between the user and the Agentic chatbot\n",
        "user_inputs = [\n",
        "    \"Hello\",\n",
        "    \"I am looking to buy a headphone\",\n",
        "    \"Give me a list of available headphone names\",\n",
        "    \"Tell me about the features of Sony WH-1000XM5\",\n",
        "    \"How much does it cost?\",\n",
        "    \"Give me similar information about Bose QuietComfort Ultra\",\n",
        "    \"What info do you have on Apple AirPods Max?\",\n",
        "    \"Thanks for the help\"\n",
        "]\n",
        "\n",
        "#Create a new thread\n",
        "config = {\"configurable\": {\"thread_id\": str(uuid.uuid4())}}\n",
        "\n",
        "for input in user_inputs:\n",
        "    print(f\"----------------------------------------\\nUSER : {input}\")\n",
        "    #Format the user message\n",
        "    user_message = {\"messages\":[HumanMessage(input)]}\n",
        "    #Get response from the agent\n",
        "    ai_response = product_QnA_agent.invoke(user_message,config=config)\n",
        "    #Print the response\n",
        "    print(f\"AGENT : {ai_response['messages'][-1].content}\")"
      ]
    },
    {
      "cell_type": "code",
      "execution_count": null,
      "metadata": {
        "colab": {
          "background_save": true
        },
        "id": "87X2KZ7bKfXT",
        "outputId": "46f7d84f-4aa1-49e5-a5ce-42fdc357a04f"
      },
      "outputs": [
        {
          "name": "stdout",
          "output_type": "stream",
          "text": [
            "\n",
            "USER 1: The Sennheiser Momentum 4 Wireless headphones offer a range of impressive features:\n",
            "\n",
            "- **Outstanding Sound Quality**: Equipped with a 42mm transducer system, they deliver high-fidelity audio.\n",
            "- **Battery Life**: They provide an exceptional battery life of up to 60 hours on a single charge.\n",
            "- **Adaptive Noise Cancellation**: This feature allows for an immersive listening experience by reducing ambient noise.\n",
            "- **Minimalist Design**: The design is sleek and stylish, reflecting both aesthetic appeal and high performance.\n",
            "\n",
            "These features make the Sennheiser Momentum 4 a great choice for audio enthusiasts seeking clarity and comfort.\n",
            "\n",
            "USER 2: The JBL Tour One M2 features include:\n",
            "\n",
            "- **Studio-Quality Sound**: Delivers high-quality audio performance.\n",
            "- **Adaptive Active Noise Cancellation (ANC)**: Adjusts to your environment for an immersive listening experience.\n",
            "- **Customizable EQ**: Allows you to tailor the sound to your preferences via the JBL app.\n",
            "- **50-Hour Playback Time**: Offers extended listening without frequent recharging.\n",
            "- **Lightweight Construction**: Designed for comfort and portability, making it ideal for commuters and music enthusiasts.\n",
            "\n",
            "USER 1: The price of the Sennheiser Momentum 4 headphones is $379.\n",
            "\n",
            "USER 2: The price of the JBL Tour One M2 is $279.\n"
          ]
        }
      ],
      "source": [
        "#conversation memory by user\n",
        "def execute_prompt(user, config, prompt):\n",
        "    inputs = {\"messages\":[(\"user\",prompt)]}\n",
        "    ai_response = product_QnA_agent.invoke(inputs,config=config)\n",
        "    print(f\"\\n{user}: {ai_response['messages'][-1].content}\")\n",
        "\n",
        "#Create different session threads for 2 users\n",
        "config_1 = {\"configurable\": {\"thread_id\": str(uuid.uuid4())}}\n",
        "config_2 = {\"configurable\": {\"thread_id\": str(uuid.uuid4())}}\n",
        "\n",
        "#Test both threads\n",
        "execute_prompt(\"USER 1\", config_1, \"Tell me about the features of Sennheiser Momentum 4\")\n",
        "execute_prompt(\"USER 2\", config_2, \"Tell me about the features of JBL Tour One M2\")\n",
        "execute_prompt(\"USER 1\", config_1, \"What is its price?\")\n",
        "execute_prompt(\"USER 2\", config_2, \"What is its price?\")"
      ]
    },
    {
      "cell_type": "markdown",
      "metadata": {
        "id": "kAZ3FLpv51_v"
      },
      "source": [
        "# Order Agent Chatbot"
      ]
    },
    {
      "cell_type": "code",
      "execution_count": null,
      "metadata": {
        "colab": {
          "background_save": true
        },
        "id": "L1k_k1ds56lj",
        "outputId": "f08734b9-1ccf-4f8f-a9d4-6dc332441ae8"
      },
      "outputs": [
        {
          "name": "stdout",
          "output_type": "stream",
          "text": [
            "   Order ID          Product Ordered  Quantity Ordered Delivery Date\n",
            "0  ORD-1023          Sony WH-1000XM5                 3    2024-10-16\n",
            "1  ORD-2047  Bose QuietComfort Ultra                 2    2024-10-20\n",
            "2  ORD-3159        Apple AirPods Max                 1    2024-10-21\n",
            "3  ORD-4278    Sennheiser Momentum 4                 4    2024-10-24\n",
            "4  ORD-5092          JBL Tour One M2                 3    2024-10-25\n"
          ]
        }
      ],
      "source": [
        "import pandas as pd\n",
        "\n",
        "#Load the headphone product orders CSV into a Pandas dataframe.\n",
        "product_orders_df = pd.read_csv(\"/content/Headphone Orders - Sheet1.csv\")\n",
        "print(product_orders_df)"
      ]
    },
    {
      "cell_type": "code",
      "execution_count": 53,
      "metadata": {
        "id": "4TUXtRLapBEv"
      },
      "outputs": [],
      "source": [
        "from langchain_core.tools import tool\n",
        "\n",
        "@tool\n",
        "def get_order_details(order_id:str) -> str :\n",
        "    \"\"\"\n",
        "    This function returns details about a headphone order, given an order ID\n",
        "    It performs an exact match between the input order id and available order ids\n",
        "    If a match is found, it returns products (headphone) ordered, quantity ordered and delivery date.\n",
        "    If there is NO match found, it returns -1\n",
        "    \"\"\"\n",
        "    #Filter Dataframe for order ID\n",
        "    match_order_df = product_orders_df[\n",
        "                        product_orders_df[\"Order ID\"] == order_id ]\n",
        "\n",
        "    #Check if a record was found, if not return -1\n",
        "    if len(match_order_df) == 0 :\n",
        "        return -1\n",
        "    else:\n",
        "        return match_order_df.iloc[0].to_dict()\n",
        "\n",
        "#Test the tool. Before running the test, comment the @tool annotation\n",
        "#print(get_order_details(\"ORD-1023\"))\n",
        "#print(get_order_details(\"ORD-3159\"))\n",
        "\n",
        "@tool\n",
        "def update_quantity(order_id:str, new_quantity:int) -> bool :\n",
        "    \"\"\"\n",
        "    This function updates the quantity of products ( headphones ) ordered for a given order Id.\n",
        "    It there are no matching orders, it returns False.\n",
        "    \"\"\"\n",
        "    #Find if matching record exists\n",
        "    match_order_df = product_orders_df[\n",
        "                        product_orders_df[\"Order ID\"] == order_id ]\n",
        "\n",
        "    #Check if a record was found, if not return -1\n",
        "    if len(match_order_df) == 0 :\n",
        "        return -1\n",
        "    else:\n",
        "        product_orders_df.loc[\n",
        "            product_orders_df[\"Order ID\"] == order_id,\n",
        "                \"Quantity Ordered\"] = new_quantity\n",
        "        return True\n",
        "\n",
        "#Test the tool. Before running the test, comment the @tool annotation\n",
        "#print(get_order_details(\"ORD-6948\"))\n",
        "#print(update_quantity(\"ORD-6948\", 1))\n",
        "#print(get_order_details(\"ORD-6948\"))\n",
        "#print(update_quantity(\"ORD-9999\",2))\n",
        "#print(product_orders_df)"
      ]
    },
    {
      "cell_type": "code",
      "execution_count": null,
      "metadata": {
        "colab": {
          "background_save": true
        },
        "id": "VyEwVvWKw8yI",
        "outputId": "e22aff43-33f3-40dc-9114-5e25e912ae32"
      },
      "outputs": [
        {
          "data": {
            "image/png": "[encoded data removed]",
            "text/plain": [
              "<IPython.core.display.Image object>"
            ]
          },
          "execution_count": 44,
          "metadata": {},
          "output_type": "execute_result"
        }
      ],
      "source": [
        "from langgraph.graph import StateGraph, END\n",
        "from langgraph.checkpoint.memory import MemorySaver\n",
        "from typing import TypedDict, Annotated\n",
        "import operator\n",
        "from langchain_core.messages import AnyMessage, SystemMessage, HumanMessage, ToolMessage\n",
        "from IPython.display import Image\n",
        "import json\n",
        "\n",
        "#An Agent State class that keep state of the agent while it answers a query\n",
        "class OrdersAgentState(TypedDict):\n",
        "    messages: Annotated[list[AnyMessage], operator.add]\n",
        "\n",
        "#-----------------------------------------------------------------------------\n",
        "#An agent class that manages all agentic interactions\n",
        "class OrdersAgent:\n",
        "\n",
        "    #Setup the agent graph, tools and memory\n",
        "    def __init__(self, model, tools, system_prompt, debug):\n",
        "\n",
        "        self.system_prompt=system_prompt\n",
        "        self.debug=debug\n",
        "\n",
        "        #Setup the graph for the agent manually\n",
        "        agent_graph=StateGraph(OrdersAgentState)\n",
        "        agent_graph.add_node(\"orders_llm\",self.call_llm)\n",
        "        agent_graph.add_node(\"orders_tools\",self.call_tools)\n",
        "        agent_graph.add_conditional_edges(\n",
        "            \"orders_llm\",\n",
        "            self.is_tool_call,\n",
        "            {True: \"orders_tools\", False: END }\n",
        "        )\n",
        "        agent_graph.add_edge(\"orders_tools\",\"orders_llm\")\n",
        "        #Set where there graph starts\n",
        "        agent_graph.set_entry_point(\"orders_llm\")\n",
        "\n",
        "        #Add chat memory\n",
        "        self.memory=MemorySaver()\n",
        "        #compile the graph\n",
        "        self.agent_graph = agent_graph.compile(checkpointer=self.memory)\n",
        "\n",
        "        #Setup tools\n",
        "        self.tools = { tool.name : tool for tool in tools }\n",
        "        if self.debug:\n",
        "            print(\"\\nTools loaded :\", self.tools)\n",
        "\n",
        "        #attach tools to model\n",
        "        self.model=model.bind_tools(tools)\n",
        "\n",
        "\n",
        "    #Call the LLM with the messages to get next action/result\n",
        "    def call_llm(self, state:OrdersAgentState):\n",
        "\n",
        "        messages=state[\"messages\"]\n",
        "\n",
        "        #If system prompt exists, add to messages in the front\n",
        "        if self.system_prompt:\n",
        "            messages = [SystemMessage(content=self.system_prompt)] + messages\n",
        "\n",
        "        #invoke the model with the message history\n",
        "        result = self.model.invoke(messages)\n",
        "        if self.debug:\n",
        "            print(f\"\\nLLM Returned : {result}\")\n",
        "        #Return the LLM output\n",
        "        return { \"messages\":[result] }\n",
        "\n",
        "\n",
        "    #Check if the next action is a tool call.\n",
        "    def is_tool_call(self, state:OrdersAgentState):\n",
        "        last_message = state[\"messages\"][-1]\n",
        "        #print(\"Last result from LLM : \", last_message)\n",
        "        #If tool action is requested\n",
        "        if len(last_message.tool_calls) > 0 :\n",
        "            return True\n",
        "        else:\n",
        "            return False\n",
        "\n",
        "    #Execute the tool requested with the given parameters\n",
        "    def call_tools(self, state:OrdersAgentState):\n",
        "        #Get last message\n",
        "        tool_calls = state[\"messages\"][-1].tool_calls\n",
        "        results=[]\n",
        "\n",
        "        #Multiple tool calls may be requested. Execute one by one\n",
        "        for tool in tool_calls:\n",
        "            #Handle tool missing error\n",
        "            if not tool[\"name\"] in self.tools:\n",
        "                print(f\"Unknown tool name {tool}\")\n",
        "                result = \"Invalid tool found. Please retry\"\n",
        "            else:\n",
        "                #Call the tool and collect results\n",
        "                result=self.tools[tool[\"name\"]].invoke(tool[\"args\"])\n",
        "\n",
        "            #append results to the list of tool results\n",
        "            results.append(ToolMessage(tool_call_id=tool['id'],\n",
        "                                       name=tool['name'],\n",
        "                                       content=str(result)))\n",
        "\n",
        "            if self.debug:\n",
        "                print(f\"\\nTools returned {results}\")\n",
        "            #return tool results\n",
        "            return { \"messages\" : results }\n",
        "\n",
        "#-----------------------------------------------------------------------------\n",
        "#Setup the custom agent\n",
        "\n",
        "#Note that this is a string, since the model init only accepts a string.\n",
        "system_prompt = \"\"\"\n",
        "    You are professional chatbot that manages orders for headphone sold by our company.\n",
        "    The tools allow for retrieving order details as well as update order quantity.\n",
        "    Do NOT reveal information about other orders than the one requested.\n",
        "    You will handle small talk and greetings by producing professional responses.\n",
        "    \"\"\"\n",
        "\n",
        "#Create the custom orders agent\n",
        "orders_agent = OrdersAgent(model,\n",
        "                           [get_order_details, update_quantity],\n",
        "                           system_prompt,\n",
        "                           debug=False)\n",
        "\n",
        "#Visualize the Agent\n",
        "Image(orders_agent.agent_graph.get_graph().draw_mermaid_png())"
      ]
    },
    {
      "cell_type": "code",
      "execution_count": null,
      "metadata": {
        "colab": {
          "background_save": true
        },
        "id": "pyepzBaArx7u",
        "outputId": "c384f08f-a905-4a7c-9de4-c7a1d2093e89"
      },
      "outputs": [
        {
          "name": "stdout",
          "output_type": "stream",
          "text": [
            "----------------------------------------\n",
            "USER : How are you doing?\n",
            "\n",
            "AGENT : I'm here and ready to assist you with your headphone order inquiries! How can I help you today?\n",
            "----------------------------------------\n",
            "USER : Please show me the details of the order ORD-3159\n",
            "\n",
            "AGENT : Here are the details for your order (ORD-3159):\n",
            "\n",
            "- **Product Ordered:** Apple AirPods Max\n",
            "- **Quantity Ordered:** 1\n",
            "- **Delivery Date:** October 21, 2024\n",
            "\n",
            "If you need any further assistance, feel free to ask!\n",
            "----------------------------------------\n",
            "USER : Can you add one more of that headphone to the order? \n",
            "\n",
            "AGENT : The quantity for your order (ORD-3159) has been successfully updated to 2 Apple AirPods Max. If there's anything else you need, just let me know!\n",
            "----------------------------------------\n",
            "USER : Can you show me the details again ? \n",
            "\n",
            "AGENT : Here are the updated details for your order (ORD-3159):\n",
            "\n",
            "- **Product Ordered:** Apple AirPods Max\n",
            "- **Quantity Ordered:** 2\n",
            "- **Delivery Date:** October 21, 2024\n",
            "\n",
            "If you have any more questions or need further assistance, feel free to ask!\n",
            "----------------------------------------\n",
            "USER : What about order ORD-5092 ?\n",
            "\n",
            "AGENT : Here are the details for order (ORD-5092):\n",
            "\n",
            "- **Product Ordered:** JBL Tour One M2\n",
            "- **Quantity Ordered:** 3\n",
            "- **Delivery Date:** October 25, 2024\n",
            "\n",
            "If you need further assistance or have any other questions, just let me know!\n",
            "----------------------------------------\n",
            "USER : Bye\n",
            "\n",
            "AGENT : Goodbye! If you need assistance in the future, feel free to reach out. Have a great day!\n"
          ]
        }
      ],
      "source": [
        "import uuid\n",
        "#Send a sequence of messages to chatbot and get its response\n",
        "#This simulates the conversation between the user and the Agentic chatbot\n",
        "user_inputs = [\n",
        "    \"How are you doing?\",\n",
        "    \"Please show me the details of the order ORD-3159\",\n",
        "    \"Can you add one more of that headphone to the order? \",\n",
        "    \"Can you show me the details again ? \",\n",
        "    \"What about order ORD-5092 ?\",\n",
        "    \"Bye\"\n",
        "]\n",
        "\n",
        "#Create a new thread\n",
        "config = {\"configurable\": {\"thread_id\": str(uuid.uuid4())}}\n",
        "\n",
        "for input in user_inputs:\n",
        "    print(f\"----------------------------------------\\nUSER : {input}\")\n",
        "    #Format the user message\n",
        "    user_message = {\"messages\":[HumanMessage(input)]}\n",
        "    #Get response from the agent\n",
        "    ai_response = orders_agent.agent_graph.invoke(user_message,config=config)\n",
        "    #Print the response\n",
        "    print(f\"\\nAGENT : {ai_response['messages'][-1].content}\")"
      ]
    },
    {
      "cell_type": "markdown",
      "metadata": {
        "id": "ZwwELcDRv8TG"
      },
      "source": [
        "# Routing"
      ]
    },
    {
      "cell_type": "code",
      "execution_count": null,
      "metadata": {
        "colab": {
          "background_save": true
        },
        "id": "8XErmnRav7XV"
      },
      "outputs": [],
      "source": [
        "import functools\n",
        "# Helper function to invoke an agent\n",
        "def agent_node(state, agent, name, config):\n",
        "\n",
        "    #extract thread-id from request for conversation memory\n",
        "    thread_id=config[\"metadata\"][\"thread_id\"]\n",
        "    #Set the config for calling the agent\n",
        "    agent_config = {\"configurable\": {\"thread_id\": thread_id}}\n",
        "\n",
        "    #Pass the thread-id to establish memory for chatbot\n",
        "    #Invoke the agent with the state\n",
        "    result = agent.invoke(state, agent_config)\n",
        "\n",
        "    # Convert the agent output into a format that is suitable to append to the global state\n",
        "    if isinstance(result, ToolMessage):\n",
        "        pass\n",
        "    else:\n",
        "        final_result=AIMessage(result['messages'][-1].content)\n",
        "    return {\n",
        "        \"messages\": [final_result]\n",
        "    }\n",
        "\n",
        "#Create the product QnA node\n",
        "product_QnA_node=functools.partial(agent_node,\n",
        "                                   agent=product_QnA_agent,\n",
        "                                   name=\"Product_QnA_Agent\")\n",
        "#Create the Orders node\n",
        "#For a custom agent, the agent graph need to be provided as input\n",
        "orders_node=functools.partial(agent_node,\n",
        "                              agent=orders_agent.agent_graph,\n",
        "                              name=\"Orders_Agent\")"
      ]
    },
    {
      "cell_type": "code",
      "execution_count": null,
      "metadata": {
        "colab": {
          "background_save": true
        },
        "id": "dWsjdxGMwdqd"
      },
      "outputs": [],
      "source": [
        "#Creating the routing agent\n",
        "\n",
        "from typing import TypedDict, Annotated\n",
        "from langgraph.graph import StateGraph, END\n",
        "from langchain_core.messages import AnyMessage, SystemMessage, HumanMessage, ToolMessage\n",
        "import operator"
      ]
    },
    {
      "cell_type": "code",
      "execution_count": null,
      "metadata": {
        "colab": {
          "background_save": true
        },
        "id": "0Q7bh9jgxQmH",
        "outputId": "da2db2b9-32e2-44ba-c596-4c291b741f1e"
      },
      "outputs": [
        {
          "data": {
            "image/png": "[encoded data removed]",
            "text/plain": [
              "<IPython.core.display.Image object>"
            ]
          },
          "execution_count": 48,
          "metadata": {},
          "output_type": "execute_result"
        }
      ],
      "source": [
        "#Create the chatbot\n",
        "from IPython.display import Image\n",
        "\n",
        "#Setup the system problem\n",
        "system_prompt = \"\"\"\n",
        "You are a Router, that analyzes the input query and chooses 4 options:\n",
        "SMALLTALK: If the user input is small talk, like greetings and good byes.\n",
        "PRODUCT: If the query is a product question about headphone, like features, specifications and pricing.\n",
        "ORDER: If the query is about orders for headphone, like order status, order details or update order quantity\n",
        "END: Default, when its neither PRODUCT or ORDER.\n",
        "\n",
        "The output should only be just one word out of the possible 4 : SMALLTALK, PRODUCT, ORDER, END.\n",
        "\"\"\"\n",
        "\n",
        "smalltalk_prompt=\"\"\"\n",
        "If the user request is small talk, like greetings and goodbyes, respond professionally.\n",
        "Mention that you will be able to answer questions about headphone product features and provide order status and updates.\n",
        "\"\"\"\n",
        "class RouterAgentState(TypedDict):\n",
        "    messages: Annotated[list[AnyMessage], operator.add]\n",
        "\n",
        "class RouterAgent:\n",
        "\n",
        "    def __init__(self, model, system_prompt, smalltalk_prompt, debug=False):\n",
        "\n",
        "        self.system_prompt=system_prompt\n",
        "        self.smalltalk_prompt=smalltalk_prompt\n",
        "        self.model=model\n",
        "        self.debug=debug\n",
        "\n",
        "        router_graph=StateGraph(RouterAgentState)\n",
        "        router_graph.add_node(\"Router\",self.call_llm)\n",
        "        router_graph.add_node(\"Product_Agent\",product_QnA_node)\n",
        "        router_graph.add_node(\"Orders_Agent\",orders_node)\n",
        "        router_graph.add_node(\"Small_Talk\", self.respond_smalltalk)\n",
        "\n",
        "        router_graph.add_conditional_edges(\n",
        "            \"Router\",\n",
        "            self.find_route,\n",
        "            {\"PRODUCT\": \"Product_Agent\",\n",
        "             \"ORDER\" : \"Orders_Agent\",\n",
        "             \"SMALLTALK\" : \"Small_Talk\",\n",
        "             \"END\": END }\n",
        "        )\n",
        "\n",
        " #One way routing, not coming back to router\n",
        "        router_graph.add_edge(\"Product_Agent\",END)\n",
        "        router_graph.add_edge(\"Orders_Agent\",END)\n",
        "        router_graph.add_edge(\"Small_Talk\",END)\n",
        "\n",
        "        #Set where there graph starts\n",
        "        router_graph.set_entry_point(\"Router\")\n",
        "        self.router_graph = router_graph.compile()\n",
        "\n",
        "    def call_llm(self, state:RouterAgentState):\n",
        "        messages=state[\"messages\"]\n",
        "        if self.debug:\n",
        "            print(f\"Call LLM received {messages}\")\n",
        "\n",
        "        #If system prompt exists, add to messages in the front\n",
        "        if self.system_prompt:\n",
        "            messages = [SystemMessage(content=self.system_prompt)] + messages\n",
        "\n",
        "        #invoke the model with the message history\n",
        "        result = self.model.invoke(messages)\n",
        "\n",
        "        if self.debug:\n",
        "            print(f\"Call LLM result {result}\")\n",
        "        return { \"messages\":[result] }\n",
        "\n",
        "    def respond_smalltalk(self, state:RouterAgentState):\n",
        "        messages=state[\"messages\"]\n",
        "        if self.debug:\n",
        "            print(f\"Small talk received: {messages}\")\n",
        "\n",
        "        #If system prompt exists, add to messages in the front\n",
        "\n",
        "        messages = [SystemMessage(content=self.smalltalk_prompt)] + messages\n",
        "\n",
        "        #invoke the model with the message history\n",
        "        result = self.model.invoke(messages)\n",
        "\n",
        "        if self.debug:\n",
        "            print(f\"Small talk result {result}\")\n",
        "        return { \"messages\":[result] }\n",
        "\n",
        "    def find_route(self, state:RouterAgentState):\n",
        "        last_message = state[\"messages\"][-1]\n",
        "        if self.debug:\n",
        "            print(\"Router: Last result from LLM : \", last_message)\n",
        "\n",
        "        #Set the last message as the destination\n",
        "        destination=last_message.content\n",
        "\n",
        "        if self.debug:\n",
        "            print(f\"Destination chosen : {destination}\")\n",
        "        return destination\n",
        "\n",
        "\n",
        "router_agent = RouterAgent(model,\n",
        "                           system_prompt,\n",
        "                           smalltalk_prompt,\n",
        "                           debug=False)\n",
        "\n",
        "Image(router_agent.router_graph.get_graph().draw_mermaid_png())"
      ]
    },
    {
      "cell_type": "code",
      "execution_count": null,
      "metadata": {
        "colab": {
          "background_save": true
        },
        "id": "FIimriTPxX8x",
        "outputId": "c98bbcc8-0c39-4386-fc4c-66435a0a305b"
      },
      "outputs": [
        {
          "name": "stdout",
          "output_type": "stream",
          "text": [
            "================================ Human Message =================================\n",
            "\n",
            "Tell me about the features of JBL Tour One M2\n",
            "================================== Ai Message ==================================\n",
            "\n",
            "PRODUCT\n",
            "================================== Ai Message ==================================\n",
            "\n",
            "The JBL Tour One M2 features include:\n",
            "\n",
            "- **Studio-quality sound**: Delivers high-fidelity audio for an immersive listening experience.\n",
            "- **Adaptive Active Noise Cancellation (ANC)**: Automatically adjusts to your environment to block out unwanted noise.\n",
            "- **Customizable EQ**: Allows you to tailor the sound profile to your preferences through the JBL app.\n",
            "- **50-hour playback time**: Offers extended listening without the need for frequent recharging.\n",
            "- **Lightweight construction**: Designed for comfort, making it suitable for commuters and music enthusiasts who prioritize both performance and portability.\n"
          ]
        }
      ],
      "source": [
        "#Execute a single request\n",
        "messages=[HumanMessage(content=\"Tell me about the features of JBL Tour One M2\")]\n",
        "result=router_agent.router_graph.invoke({\"messages\":messages},config)\n",
        "for message in result['messages']:\n",
        "    print(message.pretty_repr())"
      ]
    },
    {
      "cell_type": "code",
      "execution_count": null,
      "metadata": {
        "colab": {
          "background_save": true
        },
        "id": "i8ougaurxgaN",
        "outputId": "2f813b44-beaa-4810-a848-f12a4754347d"
      },
      "outputs": [
        {
          "name": "stdout",
          "output_type": "stream",
          "text": [
            "================================ Human Message =================================\n",
            "\n",
            "What is the status of order ORD-2047?\n",
            "================================== Ai Message ==================================\n",
            "\n",
            "ORDER\n",
            "================================== Ai Message ==================================\n",
            "\n",
            "Here are the details for order (ORD-2047):\n",
            "\n",
            "- **Product Ordered:** Bose QuietComfort Ultra\n",
            "- **Quantity Ordered:** 2\n",
            "- **Delivery Date:** October 20, 2024\n",
            "\n",
            "If you have any more questions or need further assistance, feel free to ask!\n"
          ]
        }
      ],
      "source": [
        "#Execute a single request\n",
        "messages=[HumanMessage(content=\"What is the status of order ORD-2047?\")]\n",
        "result=router_agent.router_graph.invoke({\"messages\":messages},config)\n",
        "for message in result['messages']:\n",
        "    print(message.pretty_repr())"
      ]
    },
    {
      "cell_type": "code",
      "execution_count": 52,
      "metadata": {
        "id": "LC0UaIA6xlwC",
        "colab": {
          "base_uri": "https://localhost:8080/"
        },
        "outputId": "09d57fc6-79bc-4555-8f45-b796746be98a"
      },
      "outputs": [
        {
          "output_type": "stream",
          "name": "stdout",
          "text": [
            "----------------------------------------\n",
            "USER : How are you doing?\n",
            "\n",
            "AGENT : I'm doing well, thank you! How about you? If you have any questions about headphone product features or need updates on your order status, feel free to ask!\n",
            "----------------------------------------\n",
            "USER : Please show me the details of the order ORD-4278 \n",
            "\n",
            "AGENT : Here are the details for your order:\n",
            "\n",
            "- **Order ID**: ORD-4278\n",
            "- **Product Ordered**: Sennheiser Momentum 4\n",
            "- **Quantity Ordered**: 5\n",
            "- **Delivery Date**: October 24, 2024\n",
            "\n",
            "If you need any further assistance, feel free to ask!\n",
            "----------------------------------------\n",
            "USER : Can you add one more of that headphone to the order? \n",
            "\n",
            "AGENT : I have successfully updated your order. The quantity of the Sennheiser Momentum 4 headphones has been increased to 6. If you need any further assistance, just let me know!\n",
            "----------------------------------------\n",
            "USER : Tell me about the features of Sony WH-1000XM5 headphone\n",
            "\n",
            "AGENT : The Sony WH-1000XM5 headphones come with several impressive features:\n",
            "\n",
            "1. **Industry-Leading Noise Cancellation**: Equipped with dual processors and advanced microphones, these headphones provide exceptional noise cancellation capabilities.\n",
            "\n",
            "2. **Lightweight Design**: The headphones are designed to be lightweight, making them comfortable for extended listening sessions.\n",
            "\n",
            "3. **Plush Earcups**: The earcups are cushioned for added comfort, enhancing the overall listening experience.\n",
            "\n",
            "4. **Long Battery Life**: The WH-1000XM5 offers an impressive battery life of up to 30 hours, ensuring you can enjoy your music for long periods without needing to recharge.\n",
            "\n",
            "5. **Fast Charging**: The fast charging feature allows for quick power-ups, making them convenient for travelers and audiophiles.\n",
            "\n",
            "These features make the Sony WH-1000XM5 a great choice for anyone looking for high-quality sound and comfort.\n",
            "----------------------------------------\n",
            "USER : How much does it cost?\n",
            "\n",
            "AGENT : The Sony WH-1000XM5 headphones cost $399.\n",
            "----------------------------------------\n",
            "USER : Bye\n",
            "\n",
            "AGENT : Goodbye! If you have any questions in the future about headphone product features or need updates on your order status, feel free to reach out. Have a great day!\n"
          ]
        }
      ],
      "source": [
        "import uuid\n",
        "#Send a sequence of messages to chatbot and get its response\n",
        "#This simulates the conversation between the user and the Agentic chatbot\n",
        "user_inputs = [\n",
        "    \"How are you doing?\",\n",
        "    \"Please show me the details of the order ORD-4278 \",\n",
        "    \"Can you add one more of that headphone to the order? \",\n",
        "    \"Tell me about the features of Sony WH-1000XM5 headphone\",\n",
        "    \"How much does it cost?\",\n",
        "    \"Bye\"\n",
        "]\n",
        "\n",
        "#Create a new thread\n",
        "config = {\"configurable\": {\"thread_id\": str(uuid.uuid4())}}\n",
        "\n",
        "for input in user_inputs:\n",
        "    print(f\"----------------------------------------\\nUSER : {input}\")\n",
        "    #Format the user message\n",
        "    user_message = {\"messages\":[HumanMessage(input)]}\n",
        "    #Get response from the agent\n",
        "    ai_response = router_agent.router_graph.invoke(user_message,config=config)\n",
        "    #Print the response\n",
        "    print(f\"\\nAGENT : {ai_response['messages'][-1].content}\")"
      ]
    }
  ],
  "metadata": {
    "colab": {
      "provenance": [],
      "include_colab_link": true
    },
    "kernelspec": {
      "display_name": "Python 3",
      "name": "python3"
    },
    "language_info": {
      "name": "python"
    }
  },
  "nbformat": 4,
  "nbformat_minor": 0
}